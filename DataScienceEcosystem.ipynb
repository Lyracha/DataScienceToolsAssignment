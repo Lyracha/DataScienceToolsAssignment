{
 "cells": [
  {
   "cell_type": "markdown",
   "id": "45fda125-06b1-4912-9d49-030597ff3294",
   "metadata": {},
   "source": [
    "# Data Science Tools and Ecosystem"
   ]
  },
  {
   "cell_type": "markdown",
   "id": "ca7bac77-e192-41af-84bc-a1042e616b81",
   "metadata": {},
   "source": [
    "In this notebook, Data Science Tools and Ecosystem are summarized."
   ]
  },
  {
   "cell_type": "markdown",
   "id": "23e83410-cd2a-49e4-ab24-701d11524667",
   "metadata": {},
   "source": [
    "**Objectives:**\n",
    "- List popular languages, languages and tools for Data Science\n",
    "- Demonstrate arithmetic operations in Jupiter notebook"
   ]
  },
  {
   "cell_type": "markdown",
   "id": "30040e6a-2b60-443b-af54-f317972c0d87",
   "metadata": {},
   "source": [
    "Some of the popular languages that Data Scientists use are:\n",
    "1. Python\n",
    "2. R\n",
    "3. Julia"
   ]
  },
  {
   "cell_type": "markdown",
   "id": "dcb29a61-6fde-4114-9c73-c851a271f8c5",
   "metadata": {},
   "source": [
    "Some of the commonly used libraries used by Data Scientists include:\n",
    "1. Pandas\n",
    "2. SciPy\n",
    "3. Plotly\n",
    "4. TensorFlow"
   ]
  },
  {
   "cell_type": "markdown",
   "id": "153e32ab-a508-45d3-b910-3caaf3a815d4",
   "metadata": {},
   "source": [
    "|Data Sicence Tools|\n",
    "|------------------|\n",
    "|Jupiter Notebooks|\n",
    "|RStudio|\n",
    "|VS code|"
   ]
  },
  {
   "cell_type": "markdown",
   "id": "f7e50d2e-43a9-4727-88a5-63a599e75894",
   "metadata": {},
   "source": [
    "### Below are a few examples of evaluating arithmetic expressions in Python"
   ]
  },
  {
   "cell_type": "code",
   "execution_count": 6,
   "id": "9cd509c1-51f7-4790-8e48-5c1c5189626c",
   "metadata": {},
   "outputs": [
    {
     "data": {
      "text/plain": [
       "17"
      ]
     },
     "execution_count": 6,
     "metadata": {},
     "output_type": "execute_result"
    }
   ],
   "source": [
    "# This a simple arithmetic expression to multiply then add integers\n",
    "(3*4)+5"
   ]
  },
  {
   "cell_type": "code",
   "execution_count": 7,
   "id": "8c36cbdc-c52d-4fe6-900d-afdf56bfdc8c",
   "metadata": {},
   "outputs": [
    {
     "name": "stdout",
     "output_type": "stream",
     "text": [
      "3.3333333333333335\n"
     ]
    }
   ],
   "source": [
    "# This is a code to transform minutes to hours\n",
    "m_in=200 # minutes to transform\n",
    "tf=60 # transformation factor 60 min/h\n",
    "h_out=m_in/tf\n",
    "print(h_out)\n"
   ]
  },
  {
   "cell_type": "markdown",
   "id": "e01a0102-e971-4020-8ab5-fb899f9d3101",
   "metadata": {},
   "source": [
    "## Author\n",
    "Laura Chacon"
   ]
  }
 ],
 "metadata": {
  "kernelspec": {
   "display_name": "Python 3 (ipykernel)",
   "language": "python",
   "name": "python3"
  },
  "language_info": {
   "codemirror_mode": {
    "name": "ipython",
    "version": 3
   },
   "file_extension": ".py",
   "mimetype": "text/x-python",
   "name": "python",
   "nbconvert_exporter": "python",
   "pygments_lexer": "ipython3",
   "version": "3.11.9"
  }
 },
 "nbformat": 4,
 "nbformat_minor": 5
}
